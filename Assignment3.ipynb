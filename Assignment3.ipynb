{
 "cells": [
  {
   "cell_type": "code",
   "execution_count": 63,
   "id": "0d2508a5",
   "metadata": {},
   "outputs": [
    {
     "data": {
      "text/plain": [
       "'QUESTION ONE\\nWrite a program that finds the maximum value of the given list, assuming that the list contains at least one element.'"
      ]
     },
     "execution_count": 63,
     "metadata": {},
     "output_type": "execute_result"
    }
   ],
   "source": [
    "'''QUESTION ONE\n",
    "Write a program that finds the maximum value of the given list, assuming that the list contains at least one element.'''"
   ]
  },
  {
   "cell_type": "code",
   "execution_count": 65,
   "id": "209b5337",
   "metadata": {},
   "outputs": [
    {
     "name": "stdout",
     "output_type": "stream",
     "text": [
      "Maximum value: 23\n"
     ]
    }
   ],
   "source": [
    "def find_max_value(input_list):\n",
    "    # Assuming the list is not empty\n",
    "    max_value = max(input_list)\n",
    "    return max_value\n",
    "\n",
    "# Example usage:\n",
    "my_list = [2,4,7,4,23,5,1,4,8,9]\n",
    "max_value = find_max_value(my_list)\n",
    "print(\"Maximum value:\", max_value)\n"
   ]
  },
  {
   "cell_type": "code",
   "execution_count": 66,
   "id": "0b915eba",
   "metadata": {},
   "outputs": [
    {
     "data": {
      "text/plain": [
       "'QUESTION TWO\\n\\n. Write a program that calculates the average value of the given list.\\n\\nSOLUTION\\n\\n'"
      ]
     },
     "execution_count": 66,
     "metadata": {},
     "output_type": "execute_result"
    }
   ],
   "source": [
    "'''QUESTION TWO\n",
    "\n",
    ". Write a program that calculates the average value of the given list.\n",
    "\n",
    "SOLUTION\n",
    "\n",
    "'''\n",
    "\n"
   ]
  },
  {
   "cell_type": "code",
   "execution_count": 68,
   "id": "cb0300e4",
   "metadata": {},
   "outputs": [
    {
     "name": "stdout",
     "output_type": "stream",
     "text": [
      "Average value: 24.6\n"
     ]
    }
   ],
   "source": [
    "def calculate_average(input_list):\n",
    "    # Assuming the list is not empty\n",
    "    sum_values = sum(input_list)\n",
    "    average = sum_values / len(input_list)\n",
    "    return average\n",
    "\n",
    "# Example usage:\n",
    "my_list = [4,7,1,5,11,53,12,46,84,23]\n",
    "average_value = calculate_average(my_list)\n",
    "print(\"Average value:\", average_value)\n"
   ]
  },
  {
   "cell_type": "code",
   "execution_count": null,
   "id": "4585ae56",
   "metadata": {},
   "outputs": [],
   "source": [
    "'''QUESTION THREE\n",
    "\n",
    "Write a program that prints the given list of integers in reverse order.\n",
    "\n",
    "'''"
   ]
  },
  {
   "cell_type": "code",
   "execution_count": 70,
   "id": "24f1a422",
   "metadata": {},
   "outputs": [
    {
     "name": "stdout",
     "output_type": "stream",
     "text": [
      "List in reverse order: [5, 89, 45, 14, 53, 23, 45, 7, 6, 2]\n"
     ]
    }
   ],
   "source": [
    "def print_reverse_order(input_list):\n",
    "    input_list.reverse()\n",
    "    print(\"List in reverse order:\", input_list)\n",
    "\n",
    "# Example usage:\n",
    "my_list = [2,6,7,45,23,53,14,45,89,5]\n",
    "print_reverse_order(my_list)\n"
   ]
  },
  {
   "cell_type": "code",
   "execution_count": null,
   "id": "4316e8be",
   "metadata": {},
   "outputs": [],
   "source": [
    "'''\n",
    "    QUESTION FOUR\n",
    "Write a program that accepts two lists of integers and prints true \n",
    "if each element in the first list is less than the element at the same index in the second list.\n",
    "Your program should print false if the lists are not the same length.'''"
   ]
  },
  {
   "cell_type": "code",
   "execution_count": 73,
   "id": "f1f59c55",
   "metadata": {},
   "outputs": [
    {
     "name": "stdout",
     "output_type": "stream",
     "text": [
      "true\n"
     ]
    }
   ],
   "source": [
    "def compare_lists(list1, list2): # accepting the two lists\n",
    "    # Check if the lists have the same length\n",
    "    if len(list1) != len(list2):\n",
    "        print(\"false\")\n",
    "        return\n",
    "\n",
    "    # Compare elements at each index\n",
    "    for i in range(len(list1)):\n",
    "        if list1[i] >= list2[i]:\n",
    "            print(\"false\")\n",
    "            return\n",
    "\n",
    "    # If the loop completes without returning, all elements are less\n",
    "    print(\"true\")\n",
    "\n",
    "# Example usage:\n",
    "list1 = [1, 2, 3, 4]\n",
    "list2 = [5, 6, 7, 8]\n",
    "\n",
    "compare_lists(list1, list2)\n"
   ]
  },
  {
   "cell_type": "code",
   "execution_count": null,
   "id": "abc6fb49",
   "metadata": {},
   "outputs": [],
   "source": [
    "\n",
    "'''\n",
    "QUESTION FIVE\n",
    "Write a program that accepts a list of integers and two indexes and swaps the elements at those indexes\n",
    "'''"
   ]
  },
  {
   "cell_type": "code",
   "execution_count": 34,
   "id": "c49dcec9",
   "metadata": {},
   "outputs": [
    {
     "name": "stdout",
     "output_type": "stream",
     "text": [
      "Original list: [5, 2, 3, 4, 5]\n",
      "Invalid indexes\n"
     ]
    }
   ],
   "source": [
    "def swap_elements(my_list, index1, index2):\n",
    "    # Check if the indexes are within the valid range\n",
    "    if 0 <= index1 < len(my_list) and 0 <= index2 < len(my_list):\n",
    "        # Swap the elements at the given indexes\n",
    "        my_list[index1], my_list[index2] = my_list[index2], my_list[index1]\n",
    "        print(\"List after swapping:\", my_list)\n",
    "    else:\n",
    "        print(\"Invalid indexes\")\n",
    "\n",
    "# Example usage:\n",
    "input_list = [5, 2, 3, 4, 5]\n",
    "index_to_swap1 = 1\n",
    "index_to_swap2 = 10\n",
    "\n",
    "print(\"Original list:\", input_list)\n",
    "swap_elements(input_list, index_to_swap1, index_to_swap2)\n"
   ]
  },
  {
   "cell_type": "code",
   "execution_count": null,
   "id": "4efafd66",
   "metadata": {},
   "outputs": [],
   "source": [
    "'''\n",
    "QUETION SIX\n",
    "Write a program that accepts two lists of integers and prints a new list containing all \n",
    "elements of the first list followed by all elements of the second.'''"
   ]
  },
  {
   "cell_type": "code",
   "execution_count": 74,
   "id": "51f07ce9",
   "metadata": {},
   "outputs": [
    {
     "name": "stdout",
     "output_type": "stream",
     "text": [
      "[1, 2, 3, 4, 5, 6, 7, 8]\n"
     ]
    }
   ],
   "source": [
    "def acceptLists(list1,list2):\n",
    "    list1.extend(list2)\n",
    "    print(list1)\n",
    "    return\n",
    "\n",
    "list1 = [1, 2, 3, 4]\n",
    "list2 = [5, 6, 7, 8]\n",
    "\n",
    "acceptLists(list1,list2)"
   ]
  },
  {
   "cell_type": "code",
   "execution_count": null,
   "id": "c93704f4",
   "metadata": {},
   "outputs": [],
   "source": [
    "'''\n",
    "QUESTION SEVEN\n",
    "Write a program that accepts a list of integers and an integer value as its parameters and \n",
    "prints the last index at which the value occurs in the list. The program should print –1 if the value is not found.\n",
    "For example, in the list [74, 85, 102, 99, 101, 85, 56], the last index of the value 85 is 5.'''"
   ]
  },
  {
   "cell_type": "code",
   "execution_count": 76,
   "id": "f1116001",
   "metadata": {},
   "outputs": [
    {
     "name": "stdout",
     "output_type": "stream",
     "text": [
      "The last index of 85 is: 5\n"
     ]
    }
   ],
   "source": [
    "def find_last_index(my_list, value):\n",
    "    # Start from the end of the list and iterate backwards\n",
    "    for i in range(len(my_list) - 1, -1, -1):\n",
    "        if my_list[i] == value:\n",
    "            print(\"The last index of\", value, \"is:\", i)\n",
    "            return\n",
    "\n",
    "    # If the value is not found\n",
    "    print(value, \"not found in the list. Last index is -1.\")\n",
    "\n",
    "# Example usage:\n",
    "my_list = [74, 85, 102, 99, 101, 85, 56]\n",
    "search_value = 85\n",
    "find_last_index(my_list, search_value)\n"
   ]
  },
  {
   "cell_type": "code",
   "execution_count": null,
   "id": "a11934f9",
   "metadata": {},
   "outputs": [],
   "source": []
  },
  {
   "cell_type": "code",
   "execution_count": null,
   "id": "55ee0798",
   "metadata": {},
   "outputs": [],
   "source": [
    "'''\n",
    "QUESTION EIGHT\n",
    "Write a program that prints the range of values in a list of integers. \n",
    "The range is defined as 1 more than the difference between the maximum and \n",
    "minimum values in the list. For example, \n",
    "\n",
    "if a list contains the values [36, 12, 25, 19, 46, 31, 22], \n",
    "the program should return 35. You may assume that the list has at least one element.'''"
   ]
  },
  {
   "cell_type": "code",
   "execution_count": 48,
   "id": "dee0b667",
   "metadata": {},
   "outputs": [
    {
     "name": "stdout",
     "output_type": "stream",
     "text": [
      "35\n"
     ]
    }
   ],
   "source": [
    "def rangeValue(mylist):\n",
    "    max_value=max(mylist)\n",
    "    min_value=min(mylist)\n",
    "    range_value=(max_value-min_value) + 1\n",
    "    print(range_value)\n",
    "    return\n",
    "myList =[36, 12, 25, 19, 46, 31, 22]\n",
    "rangeValue(myList)\n",
    "\n",
    "    "
   ]
  },
  {
   "cell_type": "code",
   "execution_count": null,
   "id": "aae141fe",
   "metadata": {},
   "outputs": [],
   "source": [
    "'''\n",
    "QUESTION NINE\n",
    "Write a program that accepts a list of integers, a minimum value, and a maximum value and prints\n",
    "the count of how many elements from the list fall between the minimum and maximum (inclusive). \n",
    "\n",
    "For example, in the list [14, 1, 22, 17, 36, 7, -43, 5], for minimum value 4 and maximum value 17, \n",
    "there are four elements whose values fall between 4 and 17.'''"
   ]
  },
  {
   "cell_type": "code",
   "execution_count": null,
   "id": "9e3e4eaf",
   "metadata": {},
   "outputs": [],
   "source": []
  },
  {
   "cell_type": "code",
   "execution_count": 78,
   "id": "ed36c3c1",
   "metadata": {},
   "outputs": [
    {
     "name": "stdout",
     "output_type": "stream",
     "text": [
      "initial count 0\n",
      "my_list 14 count value 1\n",
      "my_list 17 count value 2\n",
      "my_list 7 count value 3\n",
      "my_list 5 count value 4\n",
      "Count of elements between 4 and 17 is: 4\n"
     ]
    }
   ],
   "source": [
    "def count_elements_in_range(my_list, min_value, max_value):\n",
    "    # Initialize a counter for elements in the range\n",
    "    count = 0\n",
    "    print(\"initial count\" ,count)\n",
    "    \n",
    "    # Iterate through the list\n",
    "    for i in my_list:\n",
    "        # Check if the element is within the specified range\n",
    "        if min_value <= i <= max_value:\n",
    "            count =count +1\n",
    "            print(\"my_list\", i ,\"count value\",count)\n",
    "    \n",
    "    # Print the count of elements in the range\n",
    "    print(\"Count of elements between\", min_value, \"and\", max_value, \"is:\", count)\n",
    "\n",
    "# Example usage:\n",
    "my_list = [14, 1, 22, 17, 36, 7, -43, 5]\n",
    "min_value = 4\n",
    "max_value = 17\n",
    "\n",
    "count_elements_in_range(my_list, min_value, max_value)\n",
    "\n"
   ]
  },
  {
   "cell_type": "code",
   "execution_count": null,
   "id": "0570e8e7",
   "metadata": {},
   "outputs": [],
   "source": []
  },
  {
   "cell_type": "code",
   "execution_count": null,
   "id": "cbac6bca",
   "metadata": {},
   "outputs": [],
   "source": [
    "'''\n",
    "QUESTION TEN\n",
    "Write a program that accepts a list of real numbers and prints true if the list is in sorted (nondecreasing) \n",
    "order and false otherwise.\n",
    "\n",
    "For example, if lists named list1 and list2 store [16.1, 12.3, 22.2, 14.4] \n",
    "and [1.5, 4.3, 7.0, 19.5, 25.1, 46.2] respectively, the program should print false for list1 and true for list2 respectively. \n",
    "\n",
    "Assume the list has at least one element. A one-element list is sorted.\n",
    "\n",
    "'''"
   ]
  },
  {
   "cell_type": "code",
   "execution_count": null,
   "id": "9639243a",
   "metadata": {},
   "outputs": [],
   "source": []
  },
  {
   "cell_type": "code",
   "execution_count": 79,
   "id": "09b9806d",
   "metadata": {},
   "outputs": [
    {
     "name": "stdout",
     "output_type": "stream",
     "text": [
      "[12.3, 14.4, 16.1, 22.2]\n",
      "Is list1 sorted? False\n",
      "[1.5, 4.3, 7.0, 19.5, 25.1, 46.2]\n",
      "Is list2 sorted? True\n"
     ]
    }
   ],
   "source": [
    "def is_sorted(my_list):\n",
    "    # Create a sorted copy of the list\n",
    "    sorted_list = sorted(my_list)\n",
    "    print(sorted_list)\n",
    "\n",
    "    # Check if the original list is the same as the sorted list\n",
    "    return my_list == sorted_list\n",
    "\n",
    "# Example usage:\n",
    "list1 = [16.1, 12.3, 22.2, 14.4]\n",
    "list2 = [1.5, 4.3, 7.0, 19.5, 25.1, 46.2]\n",
    "\n",
    "print(\"Is list1 sorted?\", is_sorted(list1))\n",
    "print(\"Is list2 sorted?\", is_sorted(list2))\n"
   ]
  },
  {
   "cell_type": "code",
   "execution_count": null,
   "id": "0ca7fe64",
   "metadata": {},
   "outputs": [],
   "source": []
  },
  {
   "cell_type": "code",
   "execution_count": null,
   "id": "05f0a36a",
   "metadata": {},
   "outputs": [],
   "source": []
  },
  {
   "cell_type": "code",
   "execution_count": null,
   "id": "3408bdfc",
   "metadata": {},
   "outputs": [],
   "source": []
  },
  {
   "cell_type": "code",
   "execution_count": null,
   "id": "70c97c25",
   "metadata": {},
   "outputs": [],
   "source": []
  },
  {
   "cell_type": "code",
   "execution_count": null,
   "id": "bd13cc71",
   "metadata": {},
   "outputs": [],
   "source": []
  },
  {
   "cell_type": "code",
   "execution_count": null,
   "id": "708b80e0",
   "metadata": {},
   "outputs": [],
   "source": []
  },
  {
   "cell_type": "code",
   "execution_count": null,
   "id": "0cd70490",
   "metadata": {},
   "outputs": [],
   "source": []
  },
  {
   "cell_type": "code",
   "execution_count": null,
   "id": "7af39527",
   "metadata": {},
   "outputs": [],
   "source": []
  },
  {
   "cell_type": "code",
   "execution_count": null,
   "id": "e83fd633",
   "metadata": {},
   "outputs": [],
   "source": []
  },
  {
   "cell_type": "code",
   "execution_count": null,
   "id": "f372687f",
   "metadata": {},
   "outputs": [],
   "source": []
  },
  {
   "cell_type": "code",
   "execution_count": null,
   "id": "6d67f190",
   "metadata": {},
   "outputs": [],
   "source": []
  },
  {
   "cell_type": "code",
   "execution_count": null,
   "id": "fdfe2563",
   "metadata": {},
   "outputs": [],
   "source": []
  },
  {
   "cell_type": "code",
   "execution_count": null,
   "id": "9060c680",
   "metadata": {},
   "outputs": [],
   "source": []
  },
  {
   "cell_type": "code",
   "execution_count": null,
   "id": "f560b8f9",
   "metadata": {},
   "outputs": [],
   "source": []
  },
  {
   "cell_type": "code",
   "execution_count": null,
   "id": "226a17d7",
   "metadata": {},
   "outputs": [],
   "source": []
  },
  {
   "cell_type": "code",
   "execution_count": null,
   "id": "99b5d3ad",
   "metadata": {},
   "outputs": [],
   "source": []
  },
  {
   "cell_type": "code",
   "execution_count": null,
   "id": "d7ac7e00",
   "metadata": {},
   "outputs": [],
   "source": []
  },
  {
   "cell_type": "code",
   "execution_count": null,
   "id": "387a5687",
   "metadata": {},
   "outputs": [],
   "source": []
  },
  {
   "cell_type": "code",
   "execution_count": null,
   "id": "93012d61",
   "metadata": {},
   "outputs": [],
   "source": []
  },
  {
   "cell_type": "code",
   "execution_count": null,
   "id": "bf32e09d",
   "metadata": {},
   "outputs": [],
   "source": []
  },
  {
   "cell_type": "code",
   "execution_count": null,
   "id": "10bf1f12",
   "metadata": {},
   "outputs": [],
   "source": []
  },
  {
   "cell_type": "code",
   "execution_count": null,
   "id": "5bd1a33b",
   "metadata": {},
   "outputs": [],
   "source": []
  },
  {
   "cell_type": "code",
   "execution_count": null,
   "id": "95d4ce50",
   "metadata": {},
   "outputs": [],
   "source": []
  },
  {
   "cell_type": "code",
   "execution_count": null,
   "id": "d4deb251",
   "metadata": {},
   "outputs": [],
   "source": []
  }
 ],
 "metadata": {
  "kernelspec": {
   "display_name": "Python 3 (ipykernel)",
   "language": "python",
   "name": "python3"
  },
  "language_info": {
   "codemirror_mode": {
    "name": "ipython",
    "version": 3
   },
   "file_extension": ".py",
   "mimetype": "text/x-python",
   "name": "python",
   "nbconvert_exporter": "python",
   "pygments_lexer": "ipython3",
   "version": "3.11.3"
  }
 },
 "nbformat": 4,
 "nbformat_minor": 5
}
